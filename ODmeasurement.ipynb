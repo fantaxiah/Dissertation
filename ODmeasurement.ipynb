{
  "nbformat": 4,
  "nbformat_minor": 0,
  "metadata": {
    "colab": {
      "provenance": [],
      "authorship_tag": "ABX9TyPmUwSYrJIK0UJirvea12tH",
      "include_colab_link": true
    },
    "kernelspec": {
      "name": "python3",
      "display_name": "Python 3"
    },
    "language_info": {
      "name": "python"
    }
  },
  "cells": [
    {
      "cell_type": "markdown",
      "metadata": {
        "id": "view-in-github",
        "colab_type": "text"
      },
      "source": [
        "<a href=\"https://colab.research.google.com/github/fantaxiah/Dissertation/blob/main/ODmeasurement.ipynb\" target=\"_parent\"><img src=\"https://colab.research.google.com/assets/colab-badge.svg\" alt=\"Open In Colab\"/></a>"
      ]
    },
    {
      "cell_type": "code",
      "source": [
        "import pandas as pd\n",
        "from sklearn.preprocessing import StandardScaler\n",
        "import numpy as np\n",
        "import matplotlib.pyplot as plt\n",
        "from scipy.optimize import curve_fit"
      ],
      "metadata": {
        "id": "761FqhMfLfHY"
      },
      "execution_count": null,
      "outputs": []
    },
    {
      "cell_type": "code",
      "execution_count": null,
      "metadata": {
        "colab": {
          "base_uri": "https://localhost:8080/"
        },
        "id": "RMke7FRgKHo5",
        "outputId": "1815af2a-ec43-4350-808b-947687a59b3e"
      },
      "outputs": [
        {
          "output_type": "stream",
          "name": "stdout",
          "text": [
            "      pH  normalized_absorption\n",
            "0   12.0               0.275268\n",
            "1   11.0               0.187494\n",
            "2   10.5               0.087961\n",
            "3   10.0               0.209473\n",
            "4    9.5               0.205786\n",
            "5    9.0               0.334624\n",
            "6    8.8               0.347877\n",
            "7    8.6               0.447037\n",
            "8    8.5               0.354410\n",
            "9    8.4               0.386141\n",
            "10   8.2               0.396407\n",
            "11   8.0               0.618992\n",
            "12   7.8               0.452403\n",
            "13   7.6               0.506766\n",
            "14   7.5               0.321979\n",
            "15   7.4               0.915539\n",
            "16   7.2               1.000000\n",
            "17   7.0               0.780261\n",
            "18   6.5               0.407606\n",
            "19   6.0               0.463019\n",
            "20   5.5               0.060896\n",
            "21   5.0               0.339437\n"
          ]
        }
      ],
      "source": [
        "# Assuming you have a DataFrame 'df' with columns 'pH' and 'absorption'\n",
        "# Replace 'your_data.csv' with the actual file or data source\n",
        "\n",
        "file_to_read = '/content/meanOleicNov-Dec2023_Kiara&Carlos.csv'\n",
        "# Read your data into a DataFrame\n",
        "df = pd.read_csv(file_to_read)\n",
        "\n",
        "column_name = 'absorption_mean'\n",
        "# Find the maximum value in the 'absorption' column\n",
        "max_absorption = df[column_name].max()\n",
        "\n",
        "# Perform Min-Max normalization on the 'absorption' column\n",
        "df['normalized_absorption'] = df[column_name] / max_absorption\n",
        "\n",
        "# Display the DataFrame with normalized 'absorption'\n",
        "print(df[['pH', 'normalized_absorption']])"
      ]
    },
    {
      "cell_type": "code",
      "source": [
        "# Filter out data with pH values less than 6\n",
        "df_filt = df[df['pH'] > 3]\n",
        "\n",
        "# Calculate standard deviation\n",
        "std_dev = df_filt['normalized_absorption'].std()\n",
        "\n",
        "print(df_filt)"
      ],
      "metadata": {
        "id": "pYWUd25J62SH",
        "colab": {
          "base_uri": "https://localhost:8080/"
        },
        "outputId": "e9d9840d-0be3-4a10-8b5a-31ffbb1d2523"
      },
      "execution_count": null,
      "outputs": [
        {
          "output_type": "stream",
          "name": "stdout",
          "text": [
            "      pH  absorption_mean  normalized_absorption\n",
            "0   12.0         0.393267               0.275268\n",
            "1   11.0         0.267867               0.187494\n",
            "2   10.5         0.125667               0.087961\n",
            "3   10.0         0.299267               0.209473\n",
            "4    9.5         0.294000               0.205786\n",
            "5    9.0         0.478067               0.334624\n",
            "6    8.8         0.497000               0.347877\n",
            "7    8.6         0.638667               0.447037\n",
            "8    8.5         0.506333               0.354410\n",
            "9    8.4         0.551667               0.386141\n",
            "10   8.2         0.566333               0.396407\n",
            "11   8.0         0.884333               0.618992\n",
            "12   7.8         0.646333               0.452403\n",
            "13   7.6         0.724000               0.506766\n",
            "14   7.5         0.460000               0.321979\n",
            "15   7.4         1.308000               0.915539\n",
            "16   7.2         1.428667               1.000000\n",
            "17   7.0         1.114733               0.780261\n",
            "18   6.5         0.582333               0.407606\n",
            "19   6.0         0.661500               0.463019\n",
            "20   5.5         0.087000               0.060896\n",
            "21   5.0         0.484942               0.339437\n"
          ]
        }
      ]
    },
    {
      "cell_type": "code",
      "source": [
        "# Sigmoid function from Sean's paper\n",
        "def sigmoid(x, a, b, c):\n",
        "    return a / (1 + np.exp((a * x) + b))\n",
        "\n",
        "# Fit sigmoid curve\n",
        "# Initial guesses for parameters a, b, and c\n",
        "# initial_guesses = [1, 0, 0]\n",
        "initial_guess = [max(df_filt['normalized_absorption']), 1, np.median(df_filt['pH'])]\n",
        "\n",
        "# Fit sigmoid curve to the normalized absorption data\n",
        "params, covariance = curve_fit(sigmoid, df_filt['pH'], df_filt['normalized_absorption'], p0=initial_guess, maxfev=20000, method='trf')\n",
        "# No arguments passed to reflect uncertainty in normalized absorption, sum((f_bar-f)^2/SE^2)"
      ],
      "metadata": {
        "id": "tRmQ-HGJc6kQ"
      },
      "execution_count": null,
      "outputs": []
    },
    {
      "cell_type": "code",
      "source": [
        "# Number of bootstrap samples\n",
        "num_samples = 2000\n",
        "bootstrap_params = np.zeros((num_samples, len(params)))\n",
        "\n",
        "for i in range(num_samples):\n",
        "    indices = np.random.choice(len(df_filt['pH']), len(df_filt['pH']), replace=True)\n",
        "    x_bootstrap = df_filt['pH'].iloc[indices]\n",
        "    y_bootstrap = df_filt['normalized_absorption'].iloc[indices]\n",
        "    bootstrap_params[i, :], _ = curve_fit(sigmoid, x_bootstrap, y_bootstrap)\n",
        "\n",
        "confidence_interval = np.percentile(bootstrap_params, [15, 85], axis=0)"
      ],
      "metadata": {
        "id": "9DAz1KW493zg",
        "colab": {
          "base_uri": "https://localhost:8080/"
        },
        "outputId": "2ff6bfcc-6c9e-4cfe-a84f-f89cabd3b467"
      },
      "execution_count": null,
      "outputs": [
        {
          "output_type": "stream",
          "name": "stderr",
          "text": [
            "/usr/local/lib/python3.10/dist-packages/scipy/optimize/_minpack_py.py:1010: OptimizeWarning: Covariance of the parameters could not be estimated\n",
            "  warnings.warn('Covariance of the parameters could not be estimated',\n",
            "/usr/local/lib/python3.10/dist-packages/pandas/core/arraylike.py:402: RuntimeWarning: overflow encountered in exp\n",
            "  result = getattr(ufunc, method)(*inputs, **kwargs)\n"
          ]
        }
      ]
    },
    {
      "cell_type": "code",
      "source": [
        "# Generate a finer set of x-values for the plot\n",
        "fine_pH_values = np.linspace(df_filt['pH'].min(), df_filt['pH'].max(), 1000)\n",
        "\n",
        "# Predicted values using the fitted parameters for the finer set of x-values\n",
        "fine_sigmoid_fit = sigmoid(fine_pH_values, *params)\n",
        "\n",
        "# Create a new DataFrame with the fine_pH_values and corresponding fine_sigmoid_fit\n",
        "df_fine = pd.DataFrame({'pH': fine_pH_values, 'sigmoid_fit': fine_sigmoid_fit})\n",
        "\n",
        "# Round the 'pH' values in both DataFrames\n",
        "df_filt.loc[:, 'pH_rounded'] = df_filt['pH'].round(5).astype(float)\n",
        "df_fine.loc[:, 'pH_rounded'] = df_fine['pH'].round(5).astype(float)\n",
        "\n",
        "# Merge the new DataFrame with the original DataFrame on the 'pH' column\n",
        "df_merged = pd.merge(df_filt, df_fine, on='pH_rounded', how='left')"
      ],
      "metadata": {
        "id": "V2H_KPWLc1AJ"
      },
      "execution_count": null,
      "outputs": []
    },
    {
      "cell_type": "code",
      "source": [
        "# Plot the filtered data and the fitted sigmoid curve with higher resolution\n",
        "plt.scatter(df_filt['pH'], df_filt['normalized_absorption'], s=10, color='red')\n",
        "plt.plot(fine_pH_values, fine_sigmoid_fit, label='Fitted Sigmoid Curve', color='blue')\n",
        "\n",
        "# Add a shaded area for the 95% confidence interval\n",
        "plt.fill_between(fine_pH_values, sigmoid(fine_pH_values, *confidence_interval[0]), sigmoid(fine_pH_values, *confidence_interval[1]), color='lightblue', linestyle='dashed', linewidth=1, edgecolor='blue', alpha=0.5, label='95% Confidence Interval')\n",
        "\n",
        "plt.title('Oleic OD measurement - Mar 2024')\n",
        "plt.xlabel('pH')\n",
        "plt.ylabel('Normalized Absorbance at 480nm')\n",
        "\n",
        "# Set y-axis limits to be no greater than 1\n",
        "plt.ylim(0, 1)\n",
        "\n",
        "plt.legend()\n",
        "plt.show()"
      ],
      "metadata": {
        "id": "Y47hNfXccxTH",
        "colab": {
          "base_uri": "https://localhost:8080/",
          "height": 472
        },
        "outputId": "6137ceeb-6cc5-4a11-8cb5-bc8b9d4a489f"
      },
      "execution_count": null,
      "outputs": [
        {
          "output_type": "display_data",
          "data": {
            "text/plain": [
              "<Figure size 640x480 with 1 Axes>"
            ],
            "image/png": "[encoded data removed]"
          },
          "metadata": {}
        }
      ]
    },
    {
      "cell_type": "code",
      "source": [
        "# Compute the second derivative of the sigmoid function\n",
        "def sigmoid_second_derivative(x, a, b):\n",
        "    return (a ** 2) * np.exp((a * x) + b) / ((1 + np.exp((a * x) + b)) ** 3)\n",
        "\n",
        "# Fit sigmoid curve\n",
        "params, covariance = curve_fit(sigmoid, df_filt['pH'], df_filt['normalized_absorption'], p0=initial_guess)\n",
        "\n",
        "# Extract fitted parameters\n",
        "a, b, c = params"
      ],
      "metadata": {
        "colab": {
          "base_uri": "https://localhost:8080/"
        },
        "id": "STlRsHVijFHd",
        "outputId": "8be90c17-e637-4196-ffd9-7495a830bc28"
      },
      "execution_count": null,
      "outputs": [
        {
          "output_type": "stream",
          "name": "stderr",
          "text": [
            "/usr/local/lib/python3.10/dist-packages/scipy/optimize/_minpack_py.py:1010: OptimizeWarning: Covariance of the parameters could not be estimated\n",
            "  warnings.warn('Covariance of the parameters could not be estimated',\n"
          ]
        }
      ]
    },
    {
      "cell_type": "code",
      "source": [
        "# Find inflection point\n",
        "inflection_x = -b / a  # The inflection point occurs where the first derivative is zero\n",
        "inflection_y = sigmoid(inflection_x, a, b, c)  # Compute corresponding y-value\n",
        "\n",
        "# Print inflection point\n",
        "print(\"pH of estimated vesicle creation:\", inflection_x)"
      ],
      "metadata": {
        "colab": {
          "base_uri": "https://localhost:8080/"
        },
        "id": "MpY5i3_CjP5c",
        "outputId": "5ee419ab-f33d-44f7-fb11-5b04eba88660"
      },
      "execution_count": null,
      "outputs": [
        {
          "output_type": "stream",
          "name": "stdout",
          "text": [
            "pH of estimated vesicle creation: 10.091747060285735\n"
          ]
        }
      ]
    },
    {
      "cell_type": "markdown",
      "source": [
        "At every bootstrap sample get parameter estimates"
      ],
      "metadata": {
        "id": "y_8CifBPjdhh"
      }
    }
  ]
}