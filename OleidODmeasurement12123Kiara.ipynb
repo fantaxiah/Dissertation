{
  "nbformat": 4,
  "nbformat_minor": 0,
  "metadata": {
    "colab": {
      "provenance": [],
      "authorship_tag": "ABX9TyNpVjr+tD47hh/fnrlgMsvS",
      "include_colab_link": true
    },
    "kernelspec": {
      "name": "python3",
      "display_name": "Python 3"
    },
    "language_info": {
      "name": "python"
    }
  },
  "cells": [
    {
      "cell_type": "markdown",
      "metadata": {
        "id": "view-in-github",
        "colab_type": "text"
      },
      "source": [
        "<a href=\"https://colab.research.google.com/github/fantaxiah/Dissertation/blob/main/OleidODmeasurement12123Kiara.ipynb\" target=\"_parent\"><img src=\"https://colab.research.google.com/assets/colab-badge.svg\" alt=\"Open In Colab\"/></a>"
      ]
    },
    {
      "cell_type": "code",
      "execution_count": 10,
      "metadata": {
        "id": "NbD_5OWXaViB"
      },
      "outputs": [],
      "source": [
        "import pandas as pd\n",
        "from sklearn.preprocessing import StandardScaler\n",
        "import numpy as np\n",
        "from numpy import mean\n",
        "import matplotlib.pyplot as plt\n",
        "from scipy.optimize import curve_fit"
      ]
    },
    {
      "cell_type": "code",
      "source": [
        "# Assuming you have a DataFrame 'df' with columns 'pH' and 'absorption'\n",
        "# Replace 'your_data.csv' with the actual file or data source\n",
        "\n",
        "# Read your data into a DataFrame\n",
        "df = pd.read_csv('/content/OleicODmeasurment12123Kiara.csv')\n",
        "\n",
        "# Find the maximum value in the 'absorption' column\n",
        "max_absorption = df['absorption'].max()\n",
        "\n",
        "# Perform Min-Max normalization on the 'absorption' column\n",
        "df['normalized_absorption'] = df['absorption'] / max_absorption\n",
        "\n",
        "# Display the DataFrame with normalized 'absorption'\n",
        "print(df[['pH', 'normalized_absorption']])"
      ],
      "metadata": {
        "colab": {
          "base_uri": "https://localhost:8080/"
        },
        "id": "b-srtYZraoeN",
        "outputId": "8b2f62e9-e9ac-470c-a60a-c605af0ac366"
      },
      "execution_count": 2,
      "outputs": [
        {
          "output_type": "stream",
          "name": "stdout",
          "text": [
            "       pH  normalized_absorption\n",
            "0   12.01               0.199878\n",
            "1   12.01               0.187728\n",
            "2   12.01               0.199878\n",
            "3   11.02               0.188943\n",
            "4   11.02               0.194411\n",
            "5   11.02               0.196233\n",
            "6   10.03               0.191373\n",
            "7   10.03               0.199878\n",
            "8   10.03               0.157959\n",
            "9    9.14               0.275213\n",
            "10   9.14               0.259417\n",
            "11   9.14               0.269745\n",
            "12   8.78               0.286756\n",
            "13   8.78               0.305589\n",
            "14   8.78               0.313487\n",
            "15   8.60               0.512758\n",
            "16   8.60               0.342649\n",
            "17   8.60               0.308627\n",
            "18   8.34               0.315917\n",
            "19   8.34               0.346294\n",
            "20   8.34               0.343256\n",
            "21   8.23               0.317740\n",
            "22   8.23               0.356622\n",
            "23   8.23               0.357837\n",
            "24   7.97               0.339611\n",
            "25   7.97               0.367558\n",
            "26   7.97               0.404617\n",
            "27   7.80               0.406440\n",
            "28   7.80               0.366950\n",
            "29   7.80               0.404617\n",
            "30   7.62               0.425273\n",
            "31   7.62               0.436209\n",
            "32   7.62               0.458080\n",
            "33   7.43               0.698056\n",
            "34   7.43               0.829891\n",
            "35   7.43               0.856015\n",
            "36   7.20               0.843864\n",
            "37   7.20               0.876063\n",
            "38   7.20               0.883961\n",
            "39   7.06               0.933171\n",
            "40   7.06               0.979951\n",
            "41   7.06               1.000000\n"
          ]
        }
      ]
    },
    {
      "cell_type": "code",
      "source": [
        "# Filter out data with pH values less than 6\n",
        "df_filt = df[df['pH'] > 6]\n",
        "\n",
        "# Calculate standard deviation\n",
        "std_dev = df_filt['normalized_absorption'].std()\n",
        "\n",
        "print(df_filt)"
      ],
      "metadata": {
        "colab": {
          "base_uri": "https://localhost:8080/"
        },
        "id": "TqD1EX3oay2z",
        "outputId": "feda46fe-5dab-4fd9-ccb2-c647ee610277"
      },
      "execution_count": 3,
      "outputs": [
        {
          "output_type": "stream",
          "name": "stdout",
          "text": [
            "       pH  absorption  normalized_absorption\n",
            "0   12.01       0.329               0.199878\n",
            "1   12.01       0.309               0.187728\n",
            "2   12.01       0.329               0.199878\n",
            "3   11.02       0.311               0.188943\n",
            "4   11.02       0.320               0.194411\n",
            "5   11.02       0.323               0.196233\n",
            "6   10.03       0.315               0.191373\n",
            "7   10.03       0.329               0.199878\n",
            "8   10.03       0.260               0.157959\n",
            "9    9.14       0.453               0.275213\n",
            "10   9.14       0.427               0.259417\n",
            "11   9.14       0.444               0.269745\n",
            "12   8.78       0.472               0.286756\n",
            "13   8.78       0.503               0.305589\n",
            "14   8.78       0.516               0.313487\n",
            "15   8.60       0.844               0.512758\n",
            "16   8.60       0.564               0.342649\n",
            "17   8.60       0.508               0.308627\n",
            "18   8.34       0.520               0.315917\n",
            "19   8.34       0.570               0.346294\n",
            "20   8.34       0.565               0.343256\n",
            "21   8.23       0.523               0.317740\n",
            "22   8.23       0.587               0.356622\n",
            "23   8.23       0.589               0.357837\n",
            "24   7.97       0.559               0.339611\n",
            "25   7.97       0.605               0.367558\n",
            "26   7.97       0.666               0.404617\n",
            "27   7.80       0.669               0.406440\n",
            "28   7.80       0.604               0.366950\n",
            "29   7.80       0.666               0.404617\n",
            "30   7.62       0.700               0.425273\n",
            "31   7.62       0.718               0.436209\n",
            "32   7.62       0.754               0.458080\n",
            "33   7.43       1.149               0.698056\n",
            "34   7.43       1.366               0.829891\n",
            "35   7.43       1.409               0.856015\n",
            "36   7.20       1.389               0.843864\n",
            "37   7.20       1.442               0.876063\n",
            "38   7.20       1.455               0.883961\n",
            "39   7.06       1.536               0.933171\n",
            "40   7.06       1.613               0.979951\n",
            "41   7.06       1.646               1.000000\n"
          ]
        }
      ]
    },
    {
      "cell_type": "code",
      "source": [
        "# Sigmoid function from Sean's paper\n",
        "def sigmoid(x, a, b, c):\n",
        "    return a / (1 + np.exp((a * x) + b))\n",
        "\n",
        "# Fit sigmoid curve\n",
        "# Initial guesses for parameters a, b, and c\n",
        "# initial_guesses = [1, 0, 0]\n",
        "initial_guess = [max(df_filt['normalized_absorption']), 1, np.median(df_filt['pH'])]\n",
        "\n",
        "# Fit sigmoid curve to the normalized absorption data\n",
        "params, covariance = curve_fit(sigmoid, df_filt['pH'], df_filt['normalized_absorption'], p0=initial_guess, maxfev=20000, method='trf')"
      ],
      "metadata": {
        "id": "bEUsWSh1a4ID"
      },
      "execution_count": 4,
      "outputs": []
    },
    {
      "cell_type": "code",
      "source": [
        "# Number of bootstrap samples\n",
        "num_samples = 2000\n",
        "bootstrap_params = np.zeros((num_samples, len(params)))\n",
        "\n",
        "for i in range(num_samples):\n",
        "    indices = np.random.choice(len(df_filt['pH']), len(df_filt['pH']), replace=True)\n",
        "    x_bootstrap = df_filt['pH'].iloc[indices]\n",
        "    y_bootstrap = df_filt['normalized_absorption'].iloc[indices]\n",
        "    bootstrap_params[i, :], _ = curve_fit(sigmoid, x_bootstrap, y_bootstrap)\n",
        "\n",
        "confidence_interval = np.percentile(bootstrap_params, [15, 85], axis=0)"
      ],
      "metadata": {
        "colab": {
          "base_uri": "https://localhost:8080/"
        },
        "id": "rSqxuHoAa636",
        "outputId": "b73d66a7-278a-47ec-84d1-ff3e3062e49d"
      },
      "execution_count": 5,
      "outputs": [
        {
          "output_type": "stream",
          "name": "stderr",
          "text": [
            "/usr/local/lib/python3.10/dist-packages/scipy/optimize/_minpack_py.py:1010: OptimizeWarning: Covariance of the parameters could not be estimated\n",
            "  warnings.warn('Covariance of the parameters could not be estimated',\n",
            "/usr/local/lib/python3.10/dist-packages/pandas/core/arraylike.py:402: RuntimeWarning: overflow encountered in exp\n",
            "  result = getattr(ufunc, method)(*inputs, **kwargs)\n"
          ]
        }
      ]
    },
    {
      "cell_type": "code",
      "source": [
        "# Generate a finer set of x-values for the plot\n",
        "fine_pH_values = np.linspace(df_filt['pH'].min(), df_filt['pH'].max(), 1000)\n",
        "\n",
        "# Predicted values using the fitted parameters for the finer set of x-values\n",
        "fine_sigmoid_fit = sigmoid(fine_pH_values, *params)\n",
        "\n",
        "# Create a new DataFrame with the fine_pH_values and corresponding fine_sigmoid_fit\n",
        "df_fine = pd.DataFrame({'pH': fine_pH_values, 'sigmoid_fit': fine_sigmoid_fit})\n",
        "\n",
        "# Round the 'pH' values in both DataFrames\n",
        "df_filt.loc[:, 'pH_rounded'] = df_filt['pH'].round(5).astype(float)\n",
        "df_fine.loc[:, 'pH_rounded'] = df_fine['pH'].round(5).astype(float)\n",
        "\n",
        "# Merge the new DataFrame with the original DataFrame on the 'pH' column\n",
        "df_merged = pd.merge(df_filt, df_fine, on='pH_rounded', how='left')"
      ],
      "metadata": {
        "id": "B-JfpMh6a8hV"
      },
      "execution_count": 6,
      "outputs": []
    },
    {
      "cell_type": "code",
      "source": [
        "# Plot the filtered data and the fitted sigmoid curve with higher resolution\n",
        "plt.scatter(df_filt['pH'], df_filt['normalized_absorption'], s=7, color='red')\n",
        "plt.plot(fine_pH_values, fine_sigmoid_fit, label='Fitted Sigmoid Curve', color='blue')\n",
        "\n",
        "# Add a shaded area for the 95% confidence interval\n",
        "plt.fill_between(fine_pH_values, sigmoid(fine_pH_values, *confidence_interval[0]), sigmoid(fine_pH_values, *confidence_interval[1]), color='lightblue', linestyle='dashed', linewidth=1, edgecolor='blue', alpha=0.2, label='95% Confidence Interval')\n",
        "\n",
        "plt.xlabel('pH')\n",
        "plt.ylabel('Normalized Absorbance at 480nm')\n",
        "\n",
        "# Set y-axis limits to be no greater than 1\n",
        "plt.ylim(0, 1)\n",
        "\n",
        "plt.legend()\n",
        "plt.show()"
      ],
      "metadata": {
        "colab": {
          "base_uri": "https://localhost:8080/",
          "height": 455
        },
        "id": "tesvcf_ObAqc",
        "outputId": "7801caef-e090-4abc-9e32-5df2d47924b2"
      },
      "execution_count": 7,
      "outputs": [
        {
          "output_type": "display_data",
          "data": {
            "text/plain": [
              "<Figure size 640x480 with 1 Axes>"
            ],
            "image/png": "[encoded data removed]"
          },
          "metadata": {}
        }
      ]
    }
  ]
}