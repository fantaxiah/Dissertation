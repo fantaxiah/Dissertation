{
  "nbformat": 4,
  "nbformat_minor": 0,
  "metadata": {
    "colab": {
      "provenance": [],
      "mount_file_id": "1xx5ZH2KdeD11jOFmswVWAVVezIMNptC5",
      "authorship_tag": "ABX9TyPksNYWGNQUTdZcuG8pr3TS",
      "include_colab_link": true
    },
    "kernelspec": {
      "name": "python3",
      "display_name": "Python 3"
    },
    "language_info": {
      "name": "python"
    }
  },
  "cells": [
    {
      "cell_type": "markdown",
      "metadata": {
        "id": "view-in-github",
        "colab_type": "text"
      },
      "source": [
        "<a href=\"https://colab.research.google.com/github/fantaxiah/Dissertation/blob/main/AC_image_resolution.ipynb\" target=\"_parent\"><img src=\"https://colab.research.google.com/assets/colab-badge.svg\" alt=\"Open In Colab\"/></a>"
      ]
    },
    {
      "cell_type": "code",
      "source": [
        "''"
      ],
      "metadata": {
        "id": "95OQscs6vC-s"
      },
      "execution_count": null,
      "outputs": []
    },
    {
      "cell_type": "markdown",
      "source": [
        "# README:\n",
        "* Roboflow and Real-ESRGAN need two different versions of torch and torchvision.\n",
        "\n",
        "* And the denoising functions needs a different version of opencv than what is on Colab.\n",
        "\n",
        "* You will need to restart the session twice, once at the beginning and once in the middle.\n",
        "\n",
        "* Use your own roboflow API key.\n",
        "\n",
        "* AC-locks--2 should save to your own environment.\n",
        "\n",
        "* The images and enhanced_images folders can be interchanged in the real-ESRGAN model.\n",
        "\n"
      ],
      "metadata": {
        "id": "ArdjVOQks2sw"
      }
    },
    {
      "cell_type": "code",
      "source": [
        "!pip install opencv-contrib-python==4.10.0.82\n",
        "!pip install numpy==1.24.4 # Explicitly install a compatible numpy version"
      ],
      "metadata": {
        "id": "YHoa2UuNhrjk"
      },
      "execution_count": null,
      "outputs": []
    },
    {
      "cell_type": "markdown",
      "source": [
        "### *Restart*"
      ],
      "metadata": {
        "id": "fgjfqclqOxKC"
      }
    },
    {
      "cell_type": "code",
      "source": [],
      "metadata": {
        "id": "tMYelPFDvCdW"
      },
      "execution_count": null,
      "outputs": []
    },
    {
      "cell_type": "code",
      "source": [],
      "metadata": {
        "id": "XLuJ20rbtw1E"
      },
      "execution_count": null,
      "outputs": []
    },
    {
      "cell_type": "markdown",
      "source": [
        "# Install Roboflow"
      ],
      "metadata": {
        "id": "PRKcsmDW7LlS"
      }
    },
    {
      "cell_type": "code",
      "source": [
        "!pip install -q ultralytics roboflow supervision"
      ],
      "metadata": {
        "id": "i7wPxthdlg1O"
      },
      "execution_count": null,
      "outputs": []
    },
    {
      "cell_type": "code",
      "source": [
        "# !pip install -q git+https://github.com/sunsmarterjie/yolov12.git roboflow supervision #Install roboflow supervision"
      ],
      "metadata": {
        "id": "Z12mhd9xiWXq"
      },
      "execution_count": null,
      "outputs": []
    },
    {
      "cell_type": "code",
      "source": [
        "import os\n",
        "\n",
        "from google.colab import userdata\n",
        "\n",
        "os.environ[\"ROBOFLOW_API_KEY\"] = userdata.get(\"ROBOFLOW_API_KEY\") #This API key comes from roboflow website\n"
      ],
      "metadata": {
        "id": "RK9zt3NsiGX-"
      },
      "execution_count": null,
      "outputs": []
    },
    {
      "cell_type": "markdown",
      "source": [
        "# Download Dataset"
      ],
      "metadata": {
        "id": "APyfFG4t7UMF"
      }
    },
    {
      "cell_type": "code",
      "source": [
        "from roboflow import download_dataset\n",
        "\n",
        "dataset = download_dataset('https://universe.roboflow.com/ac-locks/ac-locks/dataset/2', 'yolov8')"
      ],
      "metadata": {
        "id": "HX6lVhGMiL3O"
      },
      "execution_count": null,
      "outputs": []
    },
    {
      "cell_type": "code",
      "source": [
        "print(\"AC-locks--2 folder contents:\", os.listdir('AC-locks--2'))"
      ],
      "metadata": {
        "id": "vLqEshgAmxwj"
      },
      "execution_count": null,
      "outputs": []
    },
    {
      "cell_type": "code",
      "source": [
        "print(os.listdir('AC-locks--2/train'))"
      ],
      "metadata": {
        "id": "rpD6jansm54E"
      },
      "execution_count": null,
      "outputs": []
    },
    {
      "cell_type": "markdown",
      "source": [
        "# Denoising and Sharpening"
      ],
      "metadata": {
        "id": "gFO_vis77a2p"
      }
    },
    {
      "cell_type": "code",
      "source": [
        "import cv2\n",
        "import numpy as np\n",
        "\n",
        "\n",
        "for filename in os.listdir(input_dir):\n",
        "    if filename.lower().endswith(('.jpg', '.jpeg', '.png')):\n",
        "        img_path = os.path.join(input_dir, filename)\n",
        "        img = cv2.imread(img_path)\n",
        "        if img is None:\n",
        "            print(f\"Error reading {img_path}\")\n",
        "            continue\n",
        "\n",
        "        # Denoising\n",
        "        denoised = cv2.fastNlMeansDenoisingColored(img, None, 10, 10, 7, 21)\n",
        "\n",
        "        # Sharpening\n",
        "        sharpening_kernel = np.array([[0, -1, 0],\n",
        "                                      [-1, 5, -1],\n",
        "                                      [0, -1, 0]])\n",
        "        sharpened = cv2.filter2D(denoised, -1, sharpening_kernel)\n",
        "\n",
        "        # Histogram Equalization\n",
        "        img_yuv = cv2.cvtColor(sharpened, cv2.COLOR_BGR2YUV)\n",
        "        img_yuv[:, :, 0] = cv2.equalizeHist(img_yuv[:, :, 0])\n",
        "        enhanced_img = cv2.cvtColor(img_yuv, cv2.COLOR_YUV2BGR)\n",
        "\n",
        "        output_path = os.path.join(output_dir, filename)\n",
        "        cv2.imwrite(output_path, enhanced_img)\n"
      ],
      "metadata": {
        "id": "9DYeQjmAmXJ8"
      },
      "execution_count": null,
      "outputs": []
    },
    {
      "cell_type": "code",
      "source": [
        "import matplotlib.pyplot as plt\n",
        "\n",
        "def compare_images(original_dir, enhanced_dir, num_images=5):\n",
        "    original_images = sorted([f for f in os.listdir(original_dir) if f.endswith(('.jpg', '.jpeg', '.png'))])\n",
        "    enhanced_images = sorted([f for f in os.listdir(enhanced_dir) if f.endswith(('.jpg', '.jpeg', '.png'))])\n",
        "\n",
        "    # Show that images that exist in both folders\n",
        "    common_files = list(set(original_images) & set(enhanced_images))\n",
        "\n",
        "    if len(common_files) == 0:\n",
        "        print(\"No matching images found in both directories.\")\n",
        "        return\n",
        "\n",
        "    for i, filename in enumerate(common_files[:num_images]):\n",
        "        original_path = os.path.join(original_dir, filename)\n",
        "        enhanced_path = os.path.join(enhanced_dir, filename)\n",
        "\n",
        "        original_img = cv2.imread(original_path)\n",
        "        enhanced_img = cv2.imread(enhanced_path)\n",
        "\n",
        "        if original_img is None or enhanced_img is None:\n",
        "            print(f\"Skipping {filename} - could not read image.\")\n",
        "            continue\n",
        "\n",
        "        # Convert BGR to RGB\n",
        "        original_img = cv2.cvtColor(original_img, cv2.COLOR_BGR2RGB)\n",
        "        enhanced_img = cv2.cvtColor(enhanced_img, cv2.COLOR_BGR2RGB)\n",
        "\n",
        "        plt.figure(figsize=(12, 5))\n",
        "\n",
        "        plt.subplot(1, 2, 1)\n",
        "        plt.imshow(original_img)\n",
        "        plt.title(f'Original: {filename}')\n",
        "        plt.axis('off')\n",
        "\n",
        "        plt.subplot(1, 2, 2)\n",
        "        plt.imshow(enhanced_img)\n",
        "        plt.title(f'Enhanced: {filename}')\n",
        "        plt.axis('off')\n",
        "\n",
        "        plt.show()"
      ],
      "metadata": {
        "id": "JsizrOOq6cMd"
      },
      "execution_count": null,
      "outputs": []
    },
    {
      "cell_type": "code",
      "source": [
        "original_dir = 'AC-locks--2/train/images'\n",
        "enhanced_dir = 'AC-locks--2/train/enhanced_images'\n",
        "\n",
        "compare_images(original_dir, enhanced_dir, num_images=5)"
      ],
      "metadata": {
        "id": "LCy_jd2M6hwK"
      },
      "execution_count": null,
      "outputs": []
    },
    {
      "cell_type": "markdown",
      "source": [
        "# Super resolution"
      ],
      "metadata": {
        "id": "hXFy9wA_7fzD"
      }
    },
    {
      "cell_type": "code",
      "source": [
        "!pip install torch==2.0.1 torchvision==0.15.2 -f https://download.pytorch.org/whl/torch_stable.html"
      ],
      "metadata": {
        "id": "CYMJWghbf9xv"
      },
      "execution_count": null,
      "outputs": []
    },
    {
      "cell_type": "markdown",
      "source": [
        "### *Restart session*"
      ],
      "metadata": {
        "id": "3wfERJgMgZnZ"
      }
    },
    {
      "cell_type": "code",
      "source": [
        "# Clone Real-ESRGAN and enter the Real-ESRGAN\n",
        "!git clone https://github.com/xinntao/Real-ESRGAN.git\n",
        "%cd Real-ESRGAN\n",
        "# Set up the environment\n",
        "!pip install basicsr\n",
        "!pip install facexlib\n",
        "!pip install gfpgan\n",
        "!pip install -r requirements.txt\n",
        "!python setup.py develop"
      ],
      "metadata": {
        "id": "mnDSRzBgJ0Bi"
      },
      "execution_count": null,
      "outputs": []
    },
    {
      "cell_type": "code",
      "source": [
        "import os\n",
        "from google.colab import files\n",
        "import shutil\n",
        "import cv2\n",
        "import matplotlib.pyplot as plt\n",
        "\n",
        "# Define the directory\n",
        "image_folder = '/content/AC-locks--2/train/images'\n",
        "result_folder = '/content/AC-locks--2/train/high_res_images'\n",
        "\n",
        "# Create the result folder if it doesn't exist\n",
        "os.makedirs(result_folder, exist_ok=True)\n",
        "\n",
        "# Get list of image files\n",
        "image_files = [f for f in os.listdir(image_folder) if f.lower().endswith(('.png', '.jpg', '.jpeg'))]\n",
        "\n",
        "# Loop through each image\n",
        "for img_file in image_files:\n",
        "    img_path = os.path.join(image_folder, img_file)\n",
        "    img = cv2.imread(img_path)\n",
        "    img = cv2.cvtColor(img, cv2.COLOR_BGR2RGB)\n",
        "\n",
        "    # Display the image\n",
        "    plt.figure(figsize=(8, 6))\n",
        "    plt.imshow(img)\n",
        "    plt.title(f'Image: {img_file}')\n",
        "    plt.axis('off')\n",
        "\n",
        "'''\n",
        "if os.path.isdir(upload_folder):\n",
        "    shutil.rmtree(upload_folder)\n",
        "if os.path.isdir(result_folder):\n",
        "    shutil.rmtree(result_folder)\n",
        "os.mkdir(upload_folder)\n",
        "os.mkdir(result_folder)\n",
        "'''"
      ],
      "metadata": {
        "id": "pdYe_e_aIEva"
      },
      "execution_count": null,
      "outputs": []
    },
    {
      "cell_type": "code",
      "source": [
        "!python /content/Real-ESRGAN/inference_realesrgan.py -n RealESRGAN_x4plus -i /content/AC-locks--2/train/images -o /content/AC-locks--2/train/high_res_images --tile 128 --fp32 --suffix \"\""
      ],
      "metadata": {
        "id": "GRDzhgaeJYbV"
      },
      "execution_count": null,
      "outputs": []
    },
    {
      "cell_type": "code",
      "source": [
        "# utils for visualization\n",
        "def display(img1, img2):\n",
        "  fig = plt.figure(figsize=(25, 10))\n",
        "  ax1 = fig.add_subplot(1, 2, 1)\n",
        "  plt.title('Input image', fontsize=16)\n",
        "  ax1.axis('off')\n",
        "  ax2 = fig.add_subplot(1, 2, 2)\n",
        "  plt.title('Real-ESRGAN output', fontsize=16)\n",
        "  ax2.axis('off')\n",
        "  ax1.imshow(img1)\n",
        "  ax2.imshow(img2)\n",
        "def imread(img_path):\n",
        "  img = cv2.imread(img_path)\n",
        "  img = cv2.cvtColor(img, cv2.COLOR_BGR2RGB)\n",
        "  return img\n",
        "\n",
        "# display each image in the upload folder\n",
        "import glob\n",
        "\n",
        "input_folder = '/content/AC-locks--2/train/images'\n",
        "result_folder = '/content/AC-locks--2/train/high_res_images'\n",
        "input_list = sorted(glob.glob(os.path.join(input_folder, '*')))\n",
        "output_list = sorted(glob.glob(os.path.join(result_folder, '*')))\n",
        "for input_path, output_path in zip(input_list, output_list):\n",
        "  img_input = imread(input_path)\n",
        "  img_output = imread(output_path)\n",
        "  display(img_input, img_output)"
      ],
      "metadata": {
        "id": "AXJw2c8OFrIJ"
      },
      "execution_count": null,
      "outputs": []
    }
  ]
}